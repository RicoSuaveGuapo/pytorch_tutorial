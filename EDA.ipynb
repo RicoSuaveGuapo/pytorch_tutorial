{
 "cells": [
  {
   "cell_type": "markdown",
   "metadata": {},
   "source": [
    "# 資料探勘"
   ]
  },
  {
   "cell_type": "code",
   "execution_count": 9,
   "metadata": {},
   "outputs": [],
   "source": [
    "import os\n",
    "import cv2"
   ]
  },
  {
   "cell_type": "code",
   "execution_count": 10,
   "metadata": {},
   "outputs": [
    {
     "output_type": "stream",
     "name": "stdout",
     "text": [
      "Original Data Counts: [810, 665]\nThere are ['god', 'goddess'] classes: total 2 classes\nThere are [793, 633] counts for each class\nExample data path:\ngod_dataset/god/ic_10424.jpg\n"
     ]
    }
   ],
   "source": [
    "classes = os.listdir('god_dataset')\n",
    "total_counts = [len(os.listdir(os.path.join('god_dataset', cls))) for cls in classes]\n",
    "# 我們只處理jpg檔\n",
    "paths = [os.path.join('god_dataset',cls,path) for cls in classes for path in \\\n",
    "                    os.listdir(os.path.join('god_dataset', cls)) if path.endswith('.jpg')]\n",
    "\n",
    "cl1 = [path for path in paths if path.split('/')[1] == classes[0]]\n",
    "cl2 = [path for path in paths if path.split('/')[1] == classes[1]]\n",
    "counts = [len(cl1), len(cl2)]\n",
    "\n",
    "print(f'Original Data Counts: {total_counts}')\n",
    "print(f'There are {classes} classes: total {len(classes)} classes')\n",
    "print(f'There are {counts} counts for each class')\n",
    "print(f'Example data path:\\n{paths[0]}')"
   ]
  },
  {
   "cell_type": "code",
   "execution_count": 11,
   "metadata": {},
   "outputs": [
    {
     "output_type": "stream",
     "name": "stdout",
     "text": [
      "Cannot load this image:\n",
      "god_dataset/goddess/id_10549.jpg\n",
      "Cannot load this image:\n",
      "god_dataset/goddess/id_10502.jpg\n",
      "Cannot load this image:\n",
      "god_dataset/goddess/id_10469.jpg\n",
      "Cannot load this image:\n",
      "god_dataset/goddess/id_10542.jpg\n",
      "Cannot load this image:\n",
      "god_dataset/goddess/id_10553.jpg\n",
      "Cannot load this image:\n",
      "god_dataset/goddess/id_10578.jpg\n"
     ]
    }
   ],
   "source": [
    "# 血淋淋的例子\n",
    "# 因為有些檔案開不起，在load資料的時候一直發生問題\n",
    "# 所以最後用這招把東西清乾淨\n",
    "\n",
    "# since some images somehow cannot open, i just kill them .@.\n",
    "# which may take a while. run one time only\n",
    "\n",
    "for path in paths:\n",
    "    image = cv2.imread(path, cv2.IMREAD_COLOR)\n",
    "    try:\n",
    "        image = cv2.cvtColor(image, cv2.COLOR_BGR2RGB)\n",
    "    except:\n",
    "        print('Cannot load this image:')\n",
    "        print(path)\n",
    "        os.remove(path)"
   ]
  },
  {
   "cell_type": "code",
   "execution_count": null,
   "metadata": {},
   "outputs": [],
   "source": []
  }
 ],
 "metadata": {
  "kernelspec": {
   "display_name": "Python 3",
   "language": "python",
   "name": "python3"
  },
  "language_info": {
   "codemirror_mode": {
    "name": "ipython",
    "version": 3
   },
   "file_extension": ".py",
   "mimetype": "text/x-python",
   "name": "python",
   "nbconvert_exporter": "python",
   "pygments_lexer": "ipython3",
   "version": "3.7.6-final"
  }
 },
 "nbformat": 4,
 "nbformat_minor": 2
}